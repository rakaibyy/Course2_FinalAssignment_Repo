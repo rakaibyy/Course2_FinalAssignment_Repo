{
  "metadata": {
    "kernelspec": {
      "name": "python",
      "display_name": "Pyolite",
      "language": "python"
    },
    "language_info": {
      "codemirror_mode": {
        "name": "python",
        "version": 3
      },
      "file_extension": ".py",
      "mimetype": "text/x-python",
      "name": "python",
      "nbconvert_exporter": "python",
      "pygments_lexer": "ipython3",
      "version": "3.8"
    }
  },
  "nbformat_minor": 4,
  "nbformat": 4,
  "cells": [
    {
      "cell_type": "markdown",
      "source": "<center>\n    <img src=\"https://cf-courses-data.s3.us.cloud-object-storage.appdomain.cloud/IBMDeveloperSkillsNetwork-DS0105EN-SkillsNetwork/labs/Module2/images/SN_web_lightmode.png\" width=\"300\" alt=\"cognitiveclass.ai logo\">\n</center>\n",
      "metadata": {}
    },
    {
      "cell_type": "markdown",
      "source": "# \"Tools for Data Science\" Course Final Assignment",
      "metadata": {}
    },
    {
      "cell_type": "markdown",
      "source": "This notebook is for the final assignment of the \"Tools for Data Science\" course which is part of the IBM Data Science Professional certificate.",
      "metadata": {}
    },
    {
      "cell_type": "markdown",
      "source": " ",
      "metadata": {}
    },
    {
      "cell_type": "markdown",
      "source": "**List of data science languages**",
      "metadata": {
        "tags": []
      }
    },
    {
      "cell_type": "markdown",
      "source": "- R\n- Python\n- SQL\n- Other languages (Scala, Java, etc)",
      "metadata": {}
    },
    {
      "cell_type": "markdown",
      "source": " ",
      "metadata": {}
    },
    {
      "cell_type": "markdown",
      "source": "**List of data science libraries**",
      "metadata": {}
    },
    {
      "cell_type": "markdown",
      "source": "1. Python libraries\n - Pandas, NumPy (Scientific)\n - Matplotlib Pack, Seaborn (Visualization)\n - SciKit-Learn, Keras, Tensorflow, Pytorch, Apache Spark (Machine Learning)\n2. R libraries\n - Ggplot2 (Data Visualization)\n - Keras, Tensorflow (Machine Learning)\n3. Scala Libraries\n - Vegas (Statistical Data & Visualization)\n - BigDL (Deep Learning)",
      "metadata": {}
    },
    {
      "cell_type": "markdown",
      "source": " ",
      "metadata": {}
    },
    {
      "cell_type": "markdown",
      "source": " ",
      "metadata": {}
    },
    {
      "cell_type": "markdown",
      "source": " ",
      "metadata": {}
    },
    {
      "cell_type": "markdown",
      "source": "| Tools Categories | Open Source | Commercial | Cloud Based Tools |\n| ----| ----| ----| ----|\n| **Data Management** | MySQL, Postgre SQL, MongoDB, CouchDB, Apache Cassandra, Hadoop, Ceph | Oracle, SQL Server, IBM DB2 | Amazon Dynamo DB, Cloudant, IBM DB 2 |\n| **Data Integration** | Apache Airflow, Kubeflow, Apache Kafka, Apache Nifi, Apache Spark SQL, Node Red | Informatica, Info Sphere Data Stage, Oracle, IBM Watson Studio, SAP | IBM Data Refinery, Informatica |\n| **Data Visualization** | Hue, Kibana, Apache Superset | Tableau, Power BI, IBM Cognos Analytics, IBM Watson Studio | Datameer, IBM Cognos Analytics, IBM Data Refinery in Watson |\n| **Model Building** | Apache Prediction IO | SPSS, IBM Watson Studio | IBM Watson Machine Learning, Google Cloud |\n| **Model Deployment** | Model DB | ---  | SPSS, IBM Watson Machine Learning |\n| **Model Monitoring & Assessment** | Prometheus, AI Fairness 360, Adversarial Robustness 360, AI Explainability 360 | --- | Amazon Sage Maker, IBM Watson OpenScale |\n| **Code Asset Management** | GitHub, GitLab, Bit Bucket | --- | --- |\n| **Development Environments** | Jupiter notebooks, Jupyter Lab, Apache Zepplin, RStudio, Spyder, Apache Spark, Apache Flink, Ray | Informatica, IBM Info Sphere, IBM Watson Studio, H2O.ai | IBM Watson Studio, Microsoft Azure, Amazon AWS |\n| **Fully Integrated Visual Tools** | --- | IBM Watson Studio + IBM Watson OpenScale, H20.ai, Microsoft Azure Machine Learning | IBM Watson Studio, Microsoft Azure, Amazon AWS |",
      "metadata": {}
    },
    {
      "cell_type": "markdown",
      "source": " ",
      "metadata": {}
    },
    {
      "cell_type": "markdown",
      "source": " ",
      "metadata": {}
    },
    {
      "cell_type": "markdown",
      "source": " ",
      "metadata": {}
    },
    {
      "cell_type": "markdown",
      "source": "**The following cell presents a code for an arithmetic expression**",
      "metadata": {}
    },
    {
      "cell_type": "code",
      "source": " print(2+(4*2))",
      "metadata": {
        "trusted": true
      },
      "execution_count": 21,
      "outputs": [
        {
          "name": "stdout",
          "text": "10\n",
          "output_type": "stream"
        }
      ]
    },
    {
      "cell_type": "markdown",
      "source": " ",
      "metadata": {}
    },
    {
      "cell_type": "markdown",
      "source": " ",
      "metadata": {}
    },
    {
      "cell_type": "code",
      "source": "# Define a function that takes minutes and returns the value in hours\ndef ConvertToHours(minutes):\n    hours = minutes / 60\n    return \"%d\" % (hours)\n     \n# Driver program\nminutes = 120\nprint(minutes, \"minutes = \", ConvertToHours(minutes), \"hours\")",
      "metadata": {
        "trusted": true
      },
      "execution_count": 20,
      "outputs": [
        {
          "name": "stdout",
          "text": "120 minutes =  2 hours\n",
          "output_type": "stream"
        }
      ]
    },
    {
      "cell_type": "markdown",
      "source": " ",
      "metadata": {}
    },
    {
      "cell_type": "markdown",
      "source": " ",
      "metadata": {}
    },
    {
      "cell_type": "markdown",
      "source": "**The objectives of the above code:**",
      "metadata": {}
    },
    {
      "cell_type": "markdown",
      "source": "- Convert minutes to hours\n- Using a function",
      "metadata": {
        "tags": []
      }
    },
    {
      "cell_type": "markdown",
      "source": " ",
      "metadata": {}
    },
    {
      "cell_type": "markdown",
      "source": " ",
      "metadata": {}
    },
    {
      "cell_type": "markdown",
      "source": "**By Ahmed Rakaiby**",
      "metadata": {}
    }
  ]
}