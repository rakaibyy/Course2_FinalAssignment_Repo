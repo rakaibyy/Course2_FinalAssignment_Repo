{
  "metadata": {
    "kernelspec": {
      "name": "python",
      "display_name": "Pyolite",
      "language": "python"
    },
    "language_info": {
      "codemirror_mode": {
        "name": "python",
        "version": 3
      },
      "file_extension": ".py",
      "mimetype": "text/x-python",
      "name": "python",
      "nbconvert_exporter": "python",
      "pygments_lexer": "ipython3",
      "version": "3.8"
    }
  },
  "nbformat_minor": 4,
  "nbformat": 4,
  "cells": [
    {
      "cell_type": "markdown",
      "source": "<center>\n    <img src=\"https://cf-courses-data.s3.us.cloud-object-storage.appdomain.cloud/IBMDeveloperSkillsNetwork-DS0105EN-SkillsNetwork/labs/Module2/images/SN_web_lightmode.png\" width=\"300\" alt=\"cognitiveclass.ai logo\">\n</center>\n",
      "metadata": {}
    },
    {
      "cell_type": "markdown",
      "source": "# My Jupyter Notebook on IBM Watson Studio",
      "metadata": {}
    },
    {
      "cell_type": "markdown",
      "source": "**Ahmed Rakaiby**",
      "metadata": {}
    },
    {
      "cell_type": "markdown",
      "source": "Data scientist to be",
      "metadata": {}
    },
    {
      "cell_type": "markdown",
      "source": "I am interested in data science because I want to aquire to a more demanded skill in the market and help business take more informed decisions using data science.",
      "metadata": {}
    },
    {
      "cell_type": "markdown",
      "source": "### The following code will display the sum of two numbers",
      "metadata": {
        "tags": []
      }
    },
    {
      "cell_type": "code",
      "source": "print(2+2)",
      "metadata": {
        "trusted": true
      },
      "execution_count": 2,
      "outputs": [
        {
          "name": "stdout",
          "text": "4\n",
          "output_type": "stream"
        }
      ]
    },
    {
      "cell_type": "markdown",
      "source": "The following is a horizontal rule",
      "metadata": {}
    },
    {
      "cell_type": "markdown",
      "source": "***",
      "metadata": {}
    },
    {
      "cell_type": "markdown",
      "source": "The following is a bullet list",
      "metadata": {}
    },
    {
      "cell_type": "markdown",
      "source": "- First bullet\n- Second bullet\n- Third bullet",
      "metadata": {}
    },
    {
      "cell_type": "markdown",
      "source": "The following is a numbered list",
      "metadata": {}
    },
    {
      "cell_type": "markdown",
      "source": "1. First point \n2. Second point \n3. Third point",
      "metadata": {}
    },
    {
      "cell_type": "markdown",
      "source": "The following is a table",
      "metadata": {}
    },
    {
      "cell_type": "markdown",
      "source": "| Heading | Heading | Heading |\n| ----| ----| ----|\n| text   | text |\n| text | text |",
      "metadata": {
        "tags": []
      }
    }
  ]
}